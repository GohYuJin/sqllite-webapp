{
 "cells": [
  {
   "cell_type": "code",
   "execution_count": null,
   "id": "fa60deb7",
   "metadata": {},
   "outputs": [
    {
     "name": "stdout",
     "output_type": "stream",
     "text": [
      " * Serving Flask app '__main__'\n",
      " * Debug mode: off\n"
     ]
    },
    {
     "name": "stderr",
     "output_type": "stream",
     "text": [
      "WARNING: This is a development server. Do not use it in a production deployment. Use a production WSGI server instead.\n",
      " * Running on http://127.0.0.1:5000\n",
      "Press CTRL+C to quit\n",
      "127.0.0.1 - - [09/Mar/2024 10:07:31] \"GET / HTTP/1.1\" 200 -\n",
      "127.0.0.1 - - [09/Mar/2024 10:07:35] \"POST /main HTTP/1.1\" 200 -\n",
      "127.0.0.1 - - [09/Mar/2024 10:07:36] \"POST /query HTTP/1.1\" 200 -\n"
     ]
    },
    {
     "name": "stdout",
     "output_type": "stream",
     "text": [
      "('tt', '2024-03-09 09:45:21.132750')\n",
      "('Teoh TeikToe', '2024-03-09 09:52:09.670349')\n",
      "('RoboAdvisor', '2024-03-09 10:02:12.836636')\n",
      "('Teoh TeikToe', '2024-03-09 10:04:23.717993')\n",
      "('Teoh TeikToe', '2024-03-09 10:05:57.001477')\n",
      "('Teoh TeikToe', '2024-03-09 10:07:29.535451')\n"
     ]
    }
   ],
   "source": [
    "from flask import Flask, request, render_template\n",
    "import datetime\n",
    "import sqlite3\n",
    "\n",
    "currentDateTime = datetime.datetime.now()\n",
    "app = Flask(__name__)\n",
    "\n",
    "@app.route(\"/\",methods=[\"GET\",\"POST\"])\n",
    "def index():\n",
    "    return(render_template(\"index.html\"))\n",
    "\n",
    "@app.route(\"/main\",methods=[\"GET\",\"POST\"])\n",
    "def main():\n",
    "    name = request.form.get(\"name\")\n",
    "    conn = sqlite3.connect('database1.db')\n",
    "    c = conn.cursor()\n",
    "    c.execute('INSERT INTO employee (name,timestamp) VALUES(?,?)',(name,currentDateTime))\n",
    "    conn.commit()\n",
    "    c.close()\n",
    "    conn.close()\n",
    "    return(render_template(\"main.html\",name=name))\n",
    "\n",
    "@app.route(\"/ethical_test\",methods=[\"GET\",\"POST\"])\n",
    "def ethical_test():   \n",
    "    return(render_template(\"ethical_test.html\"))\n",
    "\n",
    "@app.route(\"/answer\",methods=[\"GET\",\"POST\"])\n",
    "def answer():\n",
    "    a = request.form[\"options\"]\n",
    "    print(a)\n",
    "    if a == \"true\":\n",
    "        print(\"wrong answer\")\n",
    "    elif a==\"false\":\n",
    "        print(\"right answer\")\n",
    "    return(render_template(\"end.html\"))\n",
    "\n",
    "@app.route(\"/query\",methods=[\"GET\",\"POST\"])\n",
    "def query():   \n",
    "    conn = sqlite3.connect('database1.db')\n",
    "    c = conn.execute('''select *\n",
    "        from employee''')\n",
    "    r=\"\"\n",
    "    for row in c:\n",
    "        print(row)\n",
    "        r = r + str(row)\n",
    "    c.close()\n",
    "    conn.close()\n",
    "    return(render_template(\"query.html\",r=r))\n",
    "\n",
    "@app.route(\"/end\",methods=[\"GET\",\"POST\"])\n",
    "def end():  \n",
    "    return(render_template(\"end.html\"))\n",
    "\n",
    "if __name__ == \"__main__\":\n",
    "    app.run()"
   ]
  },
  {
   "cell_type": "code",
   "execution_count": null,
   "id": "e4e7c510",
   "metadata": {},
   "outputs": [],
   "source": []
  }
 ],
 "metadata": {
  "kernelspec": {
   "display_name": "Python 3 (ipykernel)",
   "language": "python",
   "name": "python3"
  },
  "language_info": {
   "codemirror_mode": {
    "name": "ipython",
    "version": 3
   },
   "file_extension": ".py",
   "mimetype": "text/x-python",
   "name": "python",
   "nbconvert_exporter": "python",
   "pygments_lexer": "ipython3",
   "version": "3.11.4"
  }
 },
 "nbformat": 4,
 "nbformat_minor": 5
}

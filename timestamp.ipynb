{
 "cells": [
  {
   "cell_type": "code",
   "execution_count": 1,
   "id": "798bb7a9",
   "metadata": {},
   "outputs": [],
   "source": [
    "import sqlite3\n",
    "import datetime\n",
    "\n",
    "conn = sqlite3.connect('database1.db')\n",
    "conn.execute('CREATE TABLE employee (name text, timestamp timestamp)')\n",
    "conn.close()"
   ]
  },
  {
   "cell_type": "code",
   "execution_count": 3,
   "id": "947f6263",
   "metadata": {},
   "outputs": [
    {
     "name": "stdout",
     "output_type": "stream",
     "text": [
      "(('name', None, None, None, None, None, None), ('timestamp', None, None, None, None, None, None))\n"
     ]
    }
   ],
   "source": [
    "conn = sqlite3.connect('database1.db')\n",
    "c = conn.execute('SELECT * From employee')\n",
    "print(c.description)\n",
    "c.close()\n",
    "conn.close()"
   ]
  },
  {
   "cell_type": "code",
   "execution_count": 4,
   "id": "ce925525",
   "metadata": {},
   "outputs": [
    {
     "name": "stdout",
     "output_type": "stream",
     "text": [
      "Enter name: tt\n"
     ]
    }
   ],
   "source": [
    "name= input(\"Enter name: \")"
   ]
  },
  {
   "cell_type": "code",
   "execution_count": 5,
   "id": "8387e7c0",
   "metadata": {},
   "outputs": [],
   "source": [
    "currentDateTime = datetime.datetime.now()"
   ]
  },
  {
   "cell_type": "code",
   "execution_count": 6,
   "id": "bd3e7060",
   "metadata": {},
   "outputs": [],
   "source": [
    "conn = sqlite3.connect('database1.db')\n",
    "c = conn.cursor()\n",
    "c.execute('INSERT INTO employee (name,timestamp) VALUES(?,?)',(name,currentDateTime))\n",
    "conn.commit()\n",
    "c.close()\n",
    "conn.close()"
   ]
  },
  {
   "cell_type": "code",
   "execution_count": 12,
   "id": "e757ca2f",
   "metadata": {},
   "outputs": [
    {
     "name": "stdout",
     "output_type": "stream",
     "text": [
      "('tt', '2024-03-09 09:45:21.132750')\n",
      "('Teoh TeikToe', '2024-03-09 09:52:09.670349')\n"
     ]
    }
   ],
   "source": [
    "conn = sqlite3.connect('database1.db')\n",
    "c = conn.execute('''select *\n",
    "from employee''')\n",
    "r=\"\"\n",
    "for row in c:\n",
    "    print(row)\n",
    "    r = r + str(row)\n",
    "c.close()\n",
    "conn.close()"
   ]
  },
  {
   "cell_type": "code",
   "execution_count": 11,
   "id": "5c77a76f",
   "metadata": {},
   "outputs": [
    {
     "data": {
      "text/plain": [
       "('tt', '2024-03-09 09:45:21.132750')"
      ]
     },
     "execution_count": 11,
     "metadata": {},
     "output_type": "execute_result"
    }
   ],
   "source": [
    "row"
   ]
  },
  {
   "cell_type": "code",
   "execution_count": null,
   "id": "25c15182",
   "metadata": {},
   "outputs": [],
   "source": []
  }
 ],
 "metadata": {
  "kernelspec": {
   "display_name": "Python 3 (ipykernel)",
   "language": "python",
   "name": "python3"
  },
  "language_info": {
   "codemirror_mode": {
    "name": "ipython",
    "version": 3
   },
   "file_extension": ".py",
   "mimetype": "text/x-python",
   "name": "python",
   "nbconvert_exporter": "python",
   "pygments_lexer": "ipython3",
   "version": "3.11.4"
  }
 },
 "nbformat": 4,
 "nbformat_minor": 5
}
